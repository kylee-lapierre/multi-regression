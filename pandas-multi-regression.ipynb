{
 "cells": [
  {
   "cell_type": "code",
   "execution_count": 16,
   "metadata": {},
   "outputs": [],
   "source": [
    "import pandas as pd\n",
    "import matplotlib.pyplot as plt\n",
    "import seaborn as sns\n",
    "import numpy as np\n",
    "from sklearn.impute import SimpleImputer\n",
    "from sklearn.model_selection import train_test_split\n",
    "from sklearn.linear_model import LinearRegression"
   ]
  },
  {
   "cell_type": "markdown",
   "metadata": {},
   "source": [
    "**Part 1**"
   ]
  },
  {
   "cell_type": "code",
   "execution_count": 17,
   "metadata": {},
   "outputs": [],
   "source": [
    "cars = pd.read_csv('Cars93.csv')"
   ]
  },
  {
   "cell_type": "markdown",
   "metadata": {},
   "source": [
    "**Part 2**\n",
    "\n",
    "*Clean the data and remove missing values. Drop any column that is not categorical or numeric. Let our target variable be MPG.highway again. Separate the independent variables from the dependent variable.*"
   ]
  },
  {
   "cell_type": "code",
   "execution_count": 18,
   "metadata": {},
   "outputs": [
    {
     "data": {
      "text/plain": [
       "Unnamed: 0              int64\n",
       "Manufacturer           object\n",
       "Model                  object\n",
       "Type                   object\n",
       "Min.Price             float64\n",
       "Price                 float64\n",
       "Max.Price             float64\n",
       "MPG.city                int64\n",
       "MPG.highway             int64\n",
       "AirBags                object\n",
       "DriveTrain             object\n",
       "Cylinders              object\n",
       "EngineSize            float64\n",
       "Horsepower              int64\n",
       "RPM                     int64\n",
       "Rev.per.mile            int64\n",
       "Man.trans.avail        object\n",
       "Fuel.tank.capacity    float64\n",
       "Passengers              int64\n",
       "Length                  int64\n",
       "Wheelbase               int64\n",
       "Width                   int64\n",
       "Turn.circle             int64\n",
       "Rear.seat.room        float64\n",
       "Luggage.room          float64\n",
       "Weight                  int64\n",
       "Origin                 object\n",
       "Make                   object\n",
       "dtype: object"
      ]
     },
     "execution_count": 18,
     "metadata": {},
     "output_type": "execute_result"
    }
   ],
   "source": [
    "cars.dtypes"
   ]
  },
  {
   "cell_type": "code",
   "execution_count": 19,
   "metadata": {},
   "outputs": [],
   "source": [
    "cars.dropna(inplace=True)\n",
    "cars['Cylinders'] = cars['Cylinders'].astype(int)"
   ]
  },
  {
   "cell_type": "code",
   "execution_count": 20,
   "metadata": {},
   "outputs": [],
   "source": [
    "cars.drop(columns = {'Unnamed: 0', 'Make', 'Model'}, inplace = True)"
   ]
  },
  {
   "cell_type": "code",
   "execution_count": 21,
   "metadata": {},
   "outputs": [],
   "source": [
    "keep_columns = [x for x in cars.columns if x != 'MPG.highway']\n",
    "X = cars[keep_columns].copy()\n",
    "Y = cars['MPG.highway'].copy()"
   ]
  },
  {
   "cell_type": "markdown",
   "metadata": {},
   "source": [
    "**Part 3**\n",
    "\n",
    "*Generate dummy variables for the categorical features*"
   ]
  },
  {
   "cell_type": "code",
   "execution_count": 22,
   "metadata": {},
   "outputs": [],
   "source": [
    "# Catgorical: Manufacturer, Type, AirBags, DriveTrain, Cylinders, Man.trans.avail, Origin\n",
    "X = pd.get_dummies(X, prefix = '', prefix_sep = '', drop_first = True)"
   ]
  },
  {
   "cell_type": "markdown",
   "metadata": {},
   "source": [
    "**Part 4**\n",
    "\n",
    "*Create a training set that's 75% of your data set and a complementary test set with the remaining 25%. Specify random_state=0.*"
   ]
  },
  {
   "cell_type": "code",
   "execution_count": 23,
   "metadata": {},
   "outputs": [],
   "source": [
    "X_train, X_test, Y_train, Y_test = train_test_split(X, Y, train_size = 0.75, random_state = 0)"
   ]
  },
  {
   "cell_type": "markdown",
   "metadata": {},
   "source": [
    "**Part 5**\n",
    "\n",
    "*Train the model using the LinearRegression class. Leave all parameters at their default values.*"
   ]
  },
  {
   "cell_type": "code",
   "execution_count": 24,
   "metadata": {},
   "outputs": [],
   "source": [
    "regr = LinearRegression().fit(X_train, Y_train)"
   ]
  },
  {
   "cell_type": "markdown",
   "metadata": {},
   "source": [
    "**Part 6**\n",
    "\n",
    "*Use your model to generate predictions on the test set, then create two scatterplots: one with predicted values against actual values, and another with residuals against predicted values. Print the coefficient of determination of the model with the .score() method.*"
   ]
  },
  {
   "cell_type": "code",
   "execution_count": 25,
   "metadata": {},
   "outputs": [],
   "source": [
    "Y_pred = regr.predict(X_test)"
   ]
  },
  {
   "cell_type": "code",
   "execution_count": 26,
   "metadata": {},
   "outputs": [
    {
     "data": {
      "image/png": "[encoded data removed]",
      "text/plain": [
       "<Figure size 432x288 with 1 Axes>"
      ]
     },
     "metadata": {},
     "output_type": "display_data"
    }
   ],
   "source": [
    "# Predicted values against actual values\n",
    "sns.set_theme(style = 'darkgrid')\n",
    "plt.scatter(x = Y_pred, y = Y_test)\n",
    "plt.xlabel('Predicted Values')\n",
    "plt.ylabel('Actual Values')\n",
    "plt.show()"
   ]
  },
  {
   "cell_type": "code",
   "execution_count": 27,
   "metadata": {},
   "outputs": [
    {
     "data": {
      "image/png": "[encoded data removed]",
      "text/plain": [
       "<Figure size 432x288 with 1 Axes>"
      ]
     },
     "metadata": {},
     "output_type": "display_data"
    }
   ],
   "source": [
    "# Residuals against predicted values\n",
    "residuals = Y_test - Y_pred\n",
    "sns.set_theme(style = 'darkgrid')\n",
    "plt.scatter(x = residuals, y = Y_pred)\n",
    "plt.xlabel('Residuals')\n",
    "plt.ylabel('Predicted Values')\n",
    "plt.show()"
   ]
  },
  {
   "cell_type": "code",
   "execution_count": 28,
   "metadata": {},
   "outputs": [
    {
     "data": {
      "text/plain": [
       "0.3704390556542847"
      ]
     },
     "execution_count": 28,
     "metadata": {},
     "output_type": "execute_result"
    }
   ],
   "source": [
    "regr.score(X_test, Y_test)"
   ]
  },
  {
   "cell_type": "markdown",
   "metadata": {},
   "source": [
    "**Part 7**\n",
    "\n",
    "*Print out the actual model in equation form, i.e., y = b + c1x1 + c2x2 + c3x3 + ...*"
   ]
  },
  {
   "cell_type": "code",
   "execution_count": 29,
   "metadata": {},
   "outputs": [
    {
     "name": "stdout",
     "output_type": "stream",
     "text": [
      "Y = 18.97 + (23.14)*X1  + (-46.67)*X2  + (23.41)*X3  + (0.84)*X4  + (-0.83)*X5  + (-3.32)*X6  + (0.03)*X7  + (0.0)*X8  + (-0.0)*X9  + (0.36)*X10  + (-1.01)*X11  + (0.08)*X12  + (-0.35)*X13  + (0.36)*X14  + (0.05)*X15  + (-0.23)*X16  + (0.72)*X17  + (-0.0)*X18  + (-1.71)*X19  + (4.69)*X20  + (-1.89)*X21  + (7.05)*X22  + (0.55)*X23  + (1.0)*X24  + (-0.77)*X25  + (-1.43)*X26  + (-3.34)*X27  + (-1.88)*X28  + (-2.48)*X29  + (-4.29)*X30  + (-3.14)*X31  + (-0.0)*X32  + (4.02)*X33  + (3.05)*X34  + (-4.07)*X35  + (1.07)*X36  + (-6.88)*X37  + (-6.99)*X38  + (-5.48)*X39  + (-2.33)*X40  + (-0.0)*X41  + (-0.66)*X42  + (-8.72)*X43  + (4.33)*X44  + (5.94)*X45  + (-3.22)*X46  + (-7.79)*X47  + (-2.23)*X48  + (-0.06)*X49  + (1.94)*X50  + (-1.49)*X51  + (-1.25)*X52  + (-0.08)*X53  + (1.27)*X54  + (0.47)*X55  + (9.44)*X56  + (6.75)*X57  + (-0.24)*X58  + (3.22)*X59 \n"
     ]
    }
   ],
   "source": [
    "coefficients = list(regr.coef_)\n",
    "intercept = round(regr.intercept_, 2)\n",
    "round_coef = []\n",
    "\n",
    "for i in coefficients:\n",
    "    round_coef.append(round(i, 2))\n",
    "\n",
    "equation = f'Y = {intercept}'\n",
    "\n",
    "for i in range(1, len(round_coef)+1):\n",
    "    c = round_coef[i-1]\n",
    "    equation = equation +' + ' + '(' + str(c) + ')' + '*X' + str(i) + ' '\n",
    "print(equation)"
   ]
  }
 ],
 "metadata": {
  "kernelspec": {
   "display_name": "Python 3.9.12 ('base')",
   "language": "python",
   "name": "python3"
  },
  "language_info": {
   "codemirror_mode": {
    "name": "ipython",
    "version": 3
   },
   "file_extension": ".py",
   "mimetype": "text/x-python",
   "name": "python",
   "nbconvert_exporter": "python",
   "pygments_lexer": "ipython3",
   "version": "3.9.12"
  },
  "orig_nbformat": 4,
  "vscode": {
   "interpreter": {
    "hash": "e9397a785faafe2ae1f805d686dae049a13cf3b35be22020a903044296fae4c6"
   }
  }
 },
 "nbformat": 4,
 "nbformat_minor": 2
}
