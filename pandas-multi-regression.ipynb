{
 "cells": [
  {
   "cell_type": "code",
   "execution_count": 167,
   "metadata": {},
   "outputs": [],
   "source": [
    "import pandas as pd\n",
    "import matplotlib.pyplot as plt\n",
    "import seaborn as sns\n",
    "import numpy as np\n",
    "from sklearn.impute import SimpleImputer\n",
    "from sklearn.model_selection import train_test_split\n",
    "from sklearn.linear_model import LinearRegression"
   ]
  },
  {
   "cell_type": "markdown",
   "metadata": {},
   "source": [
    "**Part 1**"
   ]
  },
  {
   "cell_type": "code",
   "execution_count": 168,
   "metadata": {},
   "outputs": [],
   "source": [
    "cars = pd.read_csv('Cars93.csv')"
   ]
  },
  {
   "cell_type": "markdown",
   "metadata": {},
   "source": [
    "**Part 2**\n",
    "\n",
    "*Clean the data and remove missing values. Drop any column that is not categorical or numeric. Let our target variable be MPG.highway again. Separate the independent variables from the dependent variable.*"
   ]
  },
  {
   "cell_type": "code",
   "execution_count": 169,
   "metadata": {},
   "outputs": [
    {
     "data": {
      "text/plain": [
       "Unnamed: 0              int64\n",
       "Manufacturer           object\n",
       "Model                  object\n",
       "Type                   object\n",
       "Min.Price             float64\n",
       "Price                 float64\n",
       "Max.Price             float64\n",
       "MPG.city                int64\n",
       "MPG.highway             int64\n",
       "AirBags                object\n",
       "DriveTrain             object\n",
       "Cylinders              object\n",
       "EngineSize            float64\n",
       "Horsepower              int64\n",
       "RPM                     int64\n",
       "Rev.per.mile            int64\n",
       "Man.trans.avail        object\n",
       "Fuel.tank.capacity    float64\n",
       "Passengers              int64\n",
       "Length                  int64\n",
       "Wheelbase               int64\n",
       "Width                   int64\n",
       "Turn.circle             int64\n",
       "Rear.seat.room        float64\n",
       "Luggage.room          float64\n",
       "Weight                  int64\n",
       "Origin                 object\n",
       "Make                   object\n",
       "dtype: object"
      ]
     },
     "execution_count": 169,
     "metadata": {},
     "output_type": "execute_result"
    }
   ],
   "source": [
    "cars.dtypes"
   ]
  },
  {
   "cell_type": "code",
   "execution_count": 170,
   "metadata": {},
   "outputs": [],
   "source": [
    "cars.dropna(inplace=True)\n",
    "cars['Cylinders'] = cars['Cylinders'].astype(int)"
   ]
  },
  {
   "cell_type": "code",
   "execution_count": 171,
   "metadata": {},
   "outputs": [],
   "source": [
    "cars.drop(columns = {'Unnamed: 0'}, inplace = True)"
   ]
  },
  {
   "cell_type": "code",
   "execution_count": 172,
   "metadata": {},
   "outputs": [],
   "source": [
    "keep_columns = [x for x in cars.columns if x != 'MPG.highway']\n",
    "X = cars[keep_columns].copy()\n",
    "Y = cars['MPG.highway'].copy()"
   ]
  },
  {
   "cell_type": "markdown",
   "metadata": {},
   "source": [
    "**Part 3**\n",
    "\n",
    "*Generate dummy variables for the categorical features*"
   ]
  },
  {
   "cell_type": "code",
   "execution_count": 173,
   "metadata": {},
   "outputs": [],
   "source": [
    "# Catgorical: Manufacturer, Make, Model, Type, AirBags, DriveTrain, Cylinders, Man.trans.avail, Origin\n",
    "X = pd.get_dummies(X, prefix = '', prefix_sep = '', columns = ['Manufacturer', 'Make', 'Model','Type', 'AirBags', 'DriveTrain', 'Cylinders', 'Man.trans.avail', 'Origin'], drop_first = True)"
   ]
  },
  {
   "cell_type": "markdown",
   "metadata": {},
   "source": [
    "**Part 4**\n",
    "\n",
    "*Create a training set that's 75% of your data set and a complementary test set with the remaining 25%. Specify random_state=0.*"
   ]
  },
  {
   "cell_type": "code",
   "execution_count": 174,
   "metadata": {},
   "outputs": [],
   "source": [
    "X_train, X_test, Y_train, Y_test = train_test_split(X, Y, train_size = 0.75, random_state = 0)"
   ]
  },
  {
   "cell_type": "markdown",
   "metadata": {},
   "source": [
    "**Part 5**\n",
    "\n",
    "*Train the model using the LinearRegression class. Leave all parameters at their default values.*"
   ]
  },
  {
   "cell_type": "code",
   "execution_count": 175,
   "metadata": {},
   "outputs": [],
   "source": [
    "regr = LinearRegression().fit(X_train, Y_train)"
   ]
  },
  {
   "cell_type": "markdown",
   "metadata": {},
   "source": [
    "**Part 6**\n",
    "\n",
    "*Use your model to generate predictions on the test set, then create two scatterplots: one with predicted values against actual values, and another with residuals against predicted values. Print the coefficient of determination of the model with the .score() method.*"
   ]
  },
  {
   "cell_type": "code",
   "execution_count": 176,
   "metadata": {},
   "outputs": [],
   "source": [
    "Y_pred = regr.predict(X_test)"
   ]
  },
  {
   "cell_type": "code",
   "execution_count": 182,
   "metadata": {},
   "outputs": [
    {
     "data": {
      "image/png": "[encoded data removed]",
      "text/plain": [
       "<Figure size 432x288 with 1 Axes>"
      ]
     },
     "metadata": {},
     "output_type": "display_data"
    }
   ],
   "source": [
    "# Predicted values against actual values\n",
    "sns.set_theme(style = 'darkgrid')\n",
    "plt.scatter(x = Y_pred, y = Y_test)\n",
    "plt.xlabel('Predicted Values')\n",
    "plt.ylabel('Actual Values')\n",
    "plt.show()"
   ]
  },
  {
   "cell_type": "code",
   "execution_count": 186,
   "metadata": {},
   "outputs": [
    {
     "data": {
      "image/png": "[encoded data removed]",
      "text/plain": [
       "<Figure size 432x288 with 1 Axes>"
      ]
     },
     "metadata": {},
     "output_type": "display_data"
    }
   ],
   "source": [
    "# Residuals against predicted values\n",
    "residuals = Y_test - Y_pred\n",
    "sns.set_theme(style = 'darkgrid')\n",
    "plt.scatter(x = residuals, y = Y_pred)\n",
    "plt.xlabel('Residuals')\n",
    "plt.ylabel('Predicted Values')\n",
    "plt.show()"
   ]
  },
  {
   "cell_type": "code",
   "execution_count": 188,
   "metadata": {},
   "outputs": [
    {
     "data": {
      "text/plain": [
       "0.9290340152359196"
      ]
     },
     "execution_count": 188,
     "metadata": {},
     "output_type": "execute_result"
    }
   ],
   "source": [
    "regr.score(X_test, Y_test)"
   ]
  },
  {
   "cell_type": "markdown",
   "metadata": {},
   "source": [
    "**Part 7**\n",
    "\n",
    "*Print out the actual model in equation form, i.e., y = b + c1x1 + c2x2 + c3x3 + ...*"
   ]
  },
  {
   "cell_type": "code",
   "execution_count": 231,
   "metadata": {},
   "outputs": [
    {
     "name": "stdout",
     "output_type": "stream",
     "text": [
      "Y = -2.37 + (0.03)*X1  + (-0.04)*X2  + (-0.0)*X3  + (0.84)*X4  + (-0.16)*X5  + (0.01)*X6  + (0.0)*X7  + (-0.0)*X8  + (-0.04)*X9  + (-0.53)*X10  + (0.03)*X11  + (0.14)*X12  + (0.04)*X13  + (0.01)*X14  + (-0.15)*X15  + (0.41)*X16  + (-0.0)*X17  + (0.15)*X18  + (0.59)*X19  + (0.22)*X20  + (0.55)*X21  + (0.88)*X22  + (0.24)*X23  + (-0.48)*X24  + (-0.6)*X25  + (-0.43)*X26  + (-0.72)*X27  + (0.14)*X28  + (-0.2)*X29  + (0.11)*X30  + (0.0)*X31  + (-0.22)*X32  + (-0.14)*X33  + (0.36)*X34  + (0.46)*X35  + (-1.06)*X36  + (-0.6)*X37  + (-0.76)*X38  + (-0.01)*X39  + (0.0)*X40  + (0.61)*X41  + (-0.51)*X42  + (1.03)*X43  + (-0.04)*X44  + (0.36)*X45  + (-0.21)*X46  + (0.87)*X47  + (0.03)*X48  + (-0.66)*X49  + (0.15)*X50  + (-0.0)*X51  + (0.59)*X52  + (0.44)*X53  + (0.0)*X54  + (0.0)*X55  + (-0.22)*X56  + (0.04)*X57  + (0.51)*X58  + (-0.0)*X59  + (-0.45)*X60  + (1.29)*X61  + (0.16)*X62  + (-0.11)*X63  + (0.24)*X64  + (-0.08)*X65  + (-0.4)*X66  + (-0.31)*X67  + (0.0)*X68  + (0.16)*X69  + (-0.4)*X70  + (-0.04)*X71  + (-0.61)*X72  + (0.18)*X73  + (-0.18)*X74  + (0.0)*X75  + (-1.02)*X76  + (0.22)*X77  + (0.0)*X78  + (0.58)*X79  + (-0.32)*X80  + (0.0)*X81  + (0.14)*X82  + (-0.4)*X83  + (-0.49)*X84  + (0.69)*X85  + (0.4)*X86  + (0.0)*X87  + (0.0)*X88  + (-0.29)*X89  + (0.0)*X90  + (0.0)*X91  + (-0.22)*X92  + (0.4)*X93  + (-0.54)*X94  + (0.09)*X95  + (0.27)*X96  + (0.0)*X97  + (0.86)*X98  + (-0.4)*X99  + (-1.06)*X100  + (0.0)*X101  + (-0.05)*X102  + (-0.54)*X103  + (-0.28)*X104  + (-0.49)*X105  + (0.0)*X106  + (-0.22)*X107  + (-0.13)*X108  + (0.34)*X109  + (0.0)*X110  + (0.25)*X111  + (0.24)*X112  + (-0.53)*X113  + (0.74)*X114  + (-0.09)*X115  + (-0.51)*X116  + (1.03)*X117  + (0.33)*X118  + (0.0)*X119  + (-0.37)*X120  + (0.36)*X121  + (-0.21)*X122  + (0.0)*X123  + (0.0)*X124  + (0.0)*X125  + (0.0)*X126  + (0.87)*X127  + (-0.13)*X128  + (0.16)*X129  + (0.86)*X130  + (-0.13)*X131  + (-0.4)*X132  + (0.09)*X133  + (0.59)*X134  + (0.27)*X135  + (0.16)*X136  + (0.0)*X137  + (-0.51)*X138  + (-0.4)*X139  + (-0.22)*X140  + (-0.28)*X141  + (0.25)*X142  + (0.0)*X143  + (-0.21)*X144  + (-1.06)*X145  + (-0.45)*X146  + (1.29)*X147  + (0.0)*X148  + (0.44)*X149  + (-0.49)*X150  + (-0.31)*X151  + (0.24)*X152  + (0.4)*X153  + (0.0)*X154  + (0.16)*X155  + (0.0)*X156  + (-0.18)*X157  + (-0.13)*X158  + (0.04)*X159  + (-0.05)*X160  + (0.0)*X161  + (0.0)*X162  + (0.34)*X163  + (0.4)*X164  + (0.0)*X165  + (0.0)*X166  + (-1.02)*X167  + (0.24)*X168  + (0.0)*X169  + (-0.53)*X170  + (-0.08)*X171  + (0.01)*X172  + (0.33)*X173  + (0.0)*X174  + (-0.4)*X175  + (0.74)*X176  + (0.0)*X177  + (0.0)*X178  + (-0.66)*X179  + (-0.37)*X180  + (-0.11)*X181  + (-0.49)*X182  + (0.0)*X183  + (-0.54)*X184  + (0.22)*X185  + (0.87)*X186  + (0.69)*X187  + (0.0)*X188  + (0.0)*X189  + (0.0)*X190  + (0.0)*X191  + (-0.22)*X192  + (-0.22)*X193  + (1.03)*X194  + (0.0)*X195  + (0.0)*X196  + (0.51)*X197  + (0.16)*X198  + (-0.29)*X199  + (-0.4)*X200  + (-0.04)*X201  + (0.14)*X202  + (-0.61)*X203  + (-0.09)*X204  + (0.36)*X205  + (0.58)*X206  + (-0.32)*X207  + (0.0)*X208  + (-0.54)*X209  + (0.18)*X210  + (-0.42)*X211  + (-0.26)*X212  + (-0.21)*X213  + (0.18)*X214  + (0.12)*X215  + (-0.31)*X216  + (0.3)*X217  + (-0.22)*X218  + (0.09)*X219  + (0.16)*X220  + (-0.33)*X221  + (-0.62)*X222  + (0.29)*X223  + (-0.1)*X224 \n"
     ]
    }
   ],
   "source": [
    "coefficients = list(regr.coef_)\n",
    "intercept = round(regr.intercept_, 2)\n",
    "round_coef = []\n",
    "\n",
    "for i in coefficients:\n",
    "    round_coef.append(round(i, 2))\n",
    "\n",
    "equation = f'Y = {intercept}'\n",
    "\n",
    "for i in range(1, len(round_coef)+1):\n",
    "    c = round_coef[i-1]\n",
    "    equation = equation +' + ' + '(' + str(c) + ')' + '*X' + str(i) + ' '\n",
    "print(equation)"
   ]
  }
 ],
 "metadata": {
  "kernelspec": {
   "display_name": "Python 3.9.12 ('base')",
   "language": "python",
   "name": "python3"
  },
  "language_info": {
   "codemirror_mode": {
    "name": "ipython",
    "version": 3
   },
   "file_extension": ".py",
   "mimetype": "text/x-python",
   "name": "python",
   "nbconvert_exporter": "python",
   "pygments_lexer": "ipython3",
   "version": "3.9.12"
  },
  "orig_nbformat": 4,
  "vscode": {
   "interpreter": {
    "hash": "e9397a785faafe2ae1f805d686dae049a13cf3b35be22020a903044296fae4c6"
   }
  }
 },
 "nbformat": 4,
 "nbformat_minor": 2
}
